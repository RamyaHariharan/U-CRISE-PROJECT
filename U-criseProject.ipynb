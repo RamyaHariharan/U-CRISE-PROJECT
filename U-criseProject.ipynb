{
 "cells": [
  {
   "cell_type": "code",
   "execution_count": null,
   "id": "38e52ac7",
   "metadata": {},
   "outputs": [],
   "source": [
    "import re\n",
    "import numpy as np\n",
    "import pandas as pd\n",
    "import string\n",
    "# plotting\n",
    "import seaborn as sns\n",
    "import matplotlib.pyplot as plt\n",
    "# nltk\n",
    "import nltk\n",
    "from nltk.tokenize import RegexpTokenizer\n",
    "from nltk.stem.wordnet import WordNetLemmatizer\n",
    "lemmatizer = WordNetLemmatizer()\n",
    "nltk.download(\"punkt\")\n",
    "nltk.download('stopwords')\n",
    "nltk.download('wordnet')\n",
    "from nltk.corpus import wordnet as wn\n",
    "from nltk import word_tokenize, pos_tag\n",
    "from collections import defaultdict\n",
    "#Word2Vec\n",
    "from nltk.tokenize import sent_tokenize, word_tokenize\n",
    "import warnings\n",
    " \n",
    "warnings.filterwarnings(action = 'ignore')\n",
    " \n",
    "import gensim\n",
    "from gensim.models import Word2Vec\n",
    "\n",
    "# sklearn\n",
    "from sklearn.svm import LinearSVC\n",
    "from sklearn.naive_bayes import BernoulliNB\n",
    "from sklearn.linear_model import LogisticRegression\n",
    "from sklearn.model_selection import train_test_split\n",
    "from sklearn.feature_extraction.text import TfidfVectorizer\n",
    "from sklearn.metrics import confusion_matrix, classification_report\n",
    "\n",
    "from sklearn.ensemble import RandomForestClassifier\n",
    "from sklearn.metrics import classification_report, confusion_matrix, accuracy_score\n",
    "from sklearn.metrics import roc_auc_score"
   ]
  },
  {
   "cell_type": "markdown",
   "id": "3cec71b0",
   "metadata": {},
   "source": [
    "## Loading the Dataset"
   ]
  },
  {
   "cell_type": "code",
   "execution_count": null,
   "id": "f54a4bd4",
   "metadata": {},
   "outputs": [],
   "source": [
    "DATASET_COLUMNS = ['claims_id','claims','status']\n",
    "DATASET_ENCODING = \"ISO-8859-1\"\n",
    "DATASET_SEP=\",\"\n",
    "DATASET_FILENAME = './U-CRISE-PROJECT/U-CRISE DATASET.csv'\n",
    "df = pd.read_csv(\n",
    "         DATASET_FILENAME,\n",
    "         #sep=DATASET_SEP, \n",
    "         encoding=DATASET_ENCODING, \n",
    "         # names=DATASET_COLUMNS\n",
    "         )"
   ]
  },
  {
   "cell_type": "code",
   "execution_count": null,
   "id": "b5813864",
   "metadata": {},
   "outputs": [],
   "source": [
    "df"
   ]
  },
  {
   "cell_type": "code",
   "execution_count": null,
   "id": "2fa469e3",
   "metadata": {},
   "outputs": [],
   "source": [
    "data=df[['claims','status']]"
   ]
  },
  {
   "cell_type": "code",
   "execution_count": null,
   "id": "007f58a5",
   "metadata": {},
   "outputs": [],
   "source": [
    "data['claims'].unique()"
   ]
  },
  {
   "cell_type": "code",
   "execution_count": null,
   "id": "4530cefb",
   "metadata": {},
   "outputs": [],
   "source": [
    "print(f\"Total Count = {df.count()}\")"
   ]
  },
  {
   "cell_type": "code",
   "execution_count": null,
   "id": "2ee78cae",
   "metadata": {},
   "outputs": [],
   "source": [
    "#Lowercase Transformation\n",
    "df[\"Claims\"] = df['Claims'].str.lower()"
   ]
  },
  {
   "cell_type": "code",
   "execution_count": null,
   "id": "e4f420fa",
   "metadata": {},
   "outputs": [],
   "source": [
    "df"
   ]
  },
  {
   "cell_type": "code",
   "execution_count": null,
   "id": "6fe9ba88",
   "metadata": {},
   "outputs": [],
   "source": [
    "#Stopwords Removal\n",
    "stopwordlist = ['a', 'about', 'above', 'after', 'again', 'ain', 'all', 'am', 'an',\n",
    "             'and','any','are', 'as', 'at', 'be', 'because', 'been', 'before',\n",
    "             'being', 'below', 'between','both', 'by', 'can', 'd', 'did', 'do',\n",
    "             'does', 'doing', 'down', 'during', 'each','few', 'for', 'from',\n",
    "             'further', 'had', 'has', 'have', 'having', 'he', 'her', 'here',\n",
    "             'hers', 'herself', 'him', 'himself', 'his', 'how', 'i', 'if', 'in',\n",
    "             'into','is', 'it', 'its', 'itself', 'just', 'll', 'm', 'ma',\n",
    "             'me', 'more', 'most','my', 'myself', 'now', 'o', 'of', 'on', 'once',\n",
    "             'only', 'or', 'other', 'our', 'ours','ourselves', 'out', 'own', 're','s', 'same', 'she', \"shes\", 'should', \"shouldve\",'so', 'some', 'such',\n",
    "             't', 'than', 'that', \"thatll\", 'the', 'their', 'theirs', 'them',\n",
    "             'themselves', 'then', 'there', 'these', 'they', 'this', 'those',\n",
    "             'through', 'to', 'too','under', 'until', 'up', 've', 'very', 'was',\n",
    "             'we', 'were', 'what', 'when', 'where','which','while', 'who', 'whom',\n",
    "             'why', 'will', 'with', 'won', 'y', 'you', \"youd\",\"youll\", \"youre\",\n",
    "             \"youve\", 'your', 'yours', 'yourself', 'yourselves']"
   ]
  },
  {
   "cell_type": "code",
   "execution_count": null,
   "id": "2b9f1474",
   "metadata": {},
   "outputs": [],
   "source": [
    "stop_words = set(stopwordlist)\n",
    "def remove_stop_words(text):\n",
    "    return \" \".join([word for word in str(text).split() if word not in stop_words])\n",
    "df['claims'] = df['claims'].apply(lambda text: remove_stop_words(text))\n",
    "df_stopwords = df['claims']\n",
    "print(f\"Stop Words : {df_stopwords}\")"
   ]
  },
  {
   "cell_type": "code",
   "execution_count": null,
   "id": "1cf938e2",
   "metadata": {},
   "outputs": [],
   "source": [
    "#Punctuations Removal\n",
    "english_punctuations = string.punctuation\n",
    "punctuations_list = english_punctuations\n",
    "def remove_punctuations(text):\n",
    "    translator = str.maketrans('', '', punctuations_list)\n",
    "    return text.translate(translator)\n",
    "df['claims']= df['claims'].apply(lambda x: remove_punctuations(x))\n",
    "print(df['claims'])"
   ]
  },
  {
   "cell_type": "code",
   "execution_count": null,
   "id": "9c71bb78",
   "metadata": {},
   "outputs": [],
   "source": [
    "#Repeating Characters Removal\n",
    "def remove_repeating_character(text):\n",
    "    return re.sub(r'(.)1+', r'1', text)\n",
    "df['claims'] = df['claims'].apply(lambda x: remove_repeating_character(x))\n",
    "print(df['claims'].head())\n"
   ]
  },
  {
   "cell_type": "code",
   "execution_count": null,
   "id": "276ec95a",
   "metadata": {},
   "outputs": [],
   "source": [
    "#URL Removal\n",
    "def remove_URLs(data):\n",
    "    return re.sub('((www.[^s]+)|(https?://[^s]+))',' ',data)\n",
    "df['claims'] = df['claims'].apply(lambda x: remove_URLs(x))\n",
    "print(df['claims'].head())"
   ]
  },
  {
   "cell_type": "code",
   "execution_count": null,
   "id": "277b382a",
   "metadata": {},
   "outputs": [],
   "source": [
    "#Numbers Removal\n",
    "def remove_numbers(data):\n",
    "    return re.sub('[0-9]+', '', data)\n",
    "df['claims'] = df['claims'].apply(lambda x: remove_numbers(x))\n",
    "df['claims'].head()"
   ]
  },
  {
   "cell_type": "code",
   "execution_count": null,
   "id": "b2398878",
   "metadata": {},
   "outputs": [],
   "source": [
    "#Word Tokenization\n",
    "from nltk.tokenize import RegexpTokenizer\n",
    "tokenizer = RegexpTokenizer(r'w+')\n",
    "df['claims'] = df['claims'].apply(tokenizer.tokenize)\n",
    "df['claims'].head()"
   ]
  },
  {
   "cell_type": "code",
   "execution_count": null,
   "id": "9c2de9b9",
   "metadata": {},
   "outputs": [],
   "source": [
    "#Stemming\n",
    "st = nltk.PorterStemmer()\n",
    "def stem_text(data):\n",
    "    text = [st.stem(word) for word in data]\n",
    "    return data\n",
    "df['claims'] = df['claims'].apply(lambda x: stem_text(x))\n",
    "df['claims'] = df['claims'].astype('string')\n",
    "\n",
    "df_stemming = df['claims']\n",
    "\n",
    "print(df_stemming)"
   ]
  },
  {
   "cell_type": "code",
   "execution_count": null,
   "id": "3fac762a",
   "metadata": {},
   "outputs": [],
   "source": [
    "#TF_IDF\n",
    "\n",
    "X=data.claims\n",
    "y=data.status"
   ]
  },
  {
   "cell_type": "code",
   "execution_count": null,
   "id": "92fb8353",
   "metadata": {
    "scrolled": true
   },
   "outputs": [],
   "source": [
    "# Separating the 95% data for training data and 5% for testing data\n",
    "X_train, X_test, y_train, y_test = train_test_split(X,y,test_size = 0.05, random_state =26105111)\n",
    "\n",
    "vectoriser = TfidfVectorizer(ngram_range=(1,2), max_features=5000)\n",
    "vectoriser.fit(X_train)\n",
    "print('No. of feature_words: ', len(vectoriser.get_feature_names()))\n",
    "\n",
    "X_train = vectoriser.transform(X_train)\n",
    "X_test  = vectoriser.transform(X_test)\n",
    "\n",
    "print(f\"X_Train = {X_train}\")\n",
    "print(f\"X_test = {X_test}\")"
   ]
  },
  {
   "cell_type": "code",
   "execution_count": null,
   "id": "0f909554",
   "metadata": {},
   "outputs": [],
   "source": [
    "DATASET_ENCODING = \"ISO-8859-1\"\n",
    "#  Reads ‘alice.txt’ file\n",
    "sample = open('C:\\\\ucrise_dataset_project_final\\\\u_crise_dataset.csv',encoding=DATASET_ENCODING)\n",
    "s = sample.read()\n",
    "# Replaces escape character with space\n",
    "f = s.replace(\"\\n\", \" \")\n",
    "data = []\n",
    "# iterate through each sentence in the file\n",
    "for i in sent_tokenize(f):\n",
    "    temp = []\n",
    "    # tokenize the sentence into words\n",
    "    for j in word_tokenize(i):\n",
    "        temp.append(j.lower())\n",
    "    data.append(temp)"
   ]
  },
  {
   "cell_type": "code",
   "execution_count": null,
   "id": "6c9c1548",
   "metadata": {},
   "outputs": [],
   "source": [
    "# Create CBOW model\n",
    "model1 = gensim.models.Word2Vec(data, min_count = 1, vector_size = 100, window = 5)\n",
    "# Print results\n",
    "print(\"Cosine similarity between 'ukraine' \" + \n",
    "               \"and 'war' - CBOW : \",\n",
    "    model1.wv.similarity('ukraine', 'war'))\n",
    "     \n",
    "print(\"Cosine similarity between 'putin' \" +\n",
    "                 \"and 'zelenskyy' - CBOW : \",\n",
    "      model1.wv.similarity('putin', 'zelenskyy'))\n",
    " \n",
    "print(\"Cosine similarity between 'ukrainewar' \" +\n",
    "                 \"and 'russia' - CBOW : \",\n",
    "      model1.wv.similarity('ukrainewar', 'russia'))"
   ]
  },
  {
   "cell_type": "code",
   "execution_count": null,
   "id": "80408fe2",
   "metadata": {},
   "outputs": [],
   "source": [
    "# Create Skip Gram model\n",
    "model2 = gensim.models.Word2Vec(data, min_count = 1, vector_size = 100,\n",
    "                                             window = 5, sg = 1)\n",
    " \n",
    "# Print results\n",
    "print(\"Cosine similarity between 'ukraine' \" +\n",
    "          \"and 'war' - Skip Gram : \",\n",
    "    model2.wv.similarity('ukraine', 'war'))\n",
    "     \n",
    "print(\"Cosine similarity between 'putin' \" +\n",
    "            \"and 'zelenskyy' - Skip Gram : \",\n",
    "      model2.wv.similarity('putin', 'zelenskyy'))\n",
    "\n",
    "print(\"Cosine similarity between 'ukrainewar' \" +\n",
    "                 \"and 'russia' - Skip Gram  : \",\n",
    "      model2.wv.similarity('ukrainewar', 'russia'))"
   ]
  },
  {
   "cell_type": "code",
   "execution_count": null,
   "id": "d6d51da2",
   "metadata": {},
   "outputs": [],
   "source": [
    "#Evaluation of Models\n",
    "def model_Evaluate(model):\n",
    "    # Predict values for Test dataset\n",
    "    y_pred = model.predict(X_test)\n",
    "    # Print the evaluation metrics for the dataset.\n",
    "    print(classification_report(y_test, y_pred))\n",
    "    # Compute and plot the Confusion matrix\n",
    "    cf_matrix = confusion_matrix(y_test, y_pred)\n",
    "    categories = ['Claims','True','False']\n",
    "    group_names = ['True Neg','False Pos', 'False Neg','True Pos']\n",
    "    group_percentages = ['{0:.2%}'.format(value) for value in cf_matrix.flatten() / np.sum(cf_matrix)]\n",
    "    labels = [f'{v1}n{v2}' for v1, v2 in zip(group_names,group_percentages)]\n",
    "    labels = np.asarray(labels).reshape(2,2)"
   ]
  },
  {
   "cell_type": "code",
   "execution_count": null,
   "id": "dbdff2e6",
   "metadata": {},
   "outputs": [],
   "source": [
    "'#BernoulliNB Model'\n",
    "print(\"############# Bernoulli Model #####################\")\n",
    "BNBmodel = BernoulliNB()\n",
    "BNBmodel.fit(X_train, y_train)\n",
    "model_Evaluate(BNBmodel)\n",
    "y_pred1 = BNBmodel.predict(X_test)"
   ]
  },
  {
   "cell_type": "code",
   "execution_count": null,
   "id": "ff067050",
   "metadata": {},
   "outputs": [],
   "source": [
    "'#Linear SVC model'\n",
    "print(\"############# Linear SVC Model #####################\")\n",
    "SVCmodel = LinearSVC()\n",
    "SVCmodel.fit(X_train, y_train)\n",
    "model_Evaluate(SVCmodel)\n",
    "y_pred2 = SVCmodel.predict(X_test)"
   ]
  },
  {
   "cell_type": "code",
   "execution_count": null,
   "id": "6ec7522e",
   "metadata": {},
   "outputs": [],
   "source": [
    "print(\"############# Logistic Model #####################\")\n",
    "LRmodel = LogisticRegression(C=2, max_iter=1000, n_jobs=-1)\n",
    "LRmodel.fit(X_train, y_train)\n",
    "model_Evaluate(LRmodel)\n",
    "y_pred3 = LRmodel.predict(X_test)"
   ]
  },
  {
   "cell_type": "code",
   "execution_count": null,
   "id": "6d9ebbb3",
   "metadata": {},
   "outputs": [],
   "source": [
    "print(\"############# Random Forest Model #####################\")\n",
    "RFmodel = RandomForestClassifier()\n",
    "RFmodel.fit(X_train, y_train)\n",
    "model_Evaluate(RFmodel)\n",
    "y_pred3 = RFmodel.predict(X_test)"
   ]
  }
 ],
 "metadata": {
  "kernelspec": {
   "display_name": "Python 3.10.7 ('devenviron': venv)",
   "language": "python",
   "name": "python3"
  },
  "language_info": {
   "codemirror_mode": {
    "name": "ipython",
    "version": 3
   },
   "file_extension": ".py",
   "mimetype": "text/x-python",
   "name": "python",
   "nbconvert_exporter": "python",
   "pygments_lexer": "ipython3",
   "version": "3.10.7"
  },
  "vscode": {
   "interpreter": {
    "hash": "a47508f02e000518cad5512a56aa3e309dc604ae4f80dac84817033857daf420"
   }
  }
 },
 "nbformat": 4,
 "nbformat_minor": 5
}
