{
 "cells": [
  {
   "cell_type": "code",
   "execution_count": 243,
   "id": "38e52ac7",
   "metadata": {},
   "outputs": [
    {
     "name": "stderr",
     "output_type": "stream",
     "text": [
      "[nltk_data] Downloading package punkt to /Users/admin/nltk_data...\n",
      "[nltk_data]   Package punkt is already up-to-date!\n",
      "[nltk_data] Downloading package stopwords to /Users/admin/nltk_data...\n",
      "[nltk_data]   Package stopwords is already up-to-date!\n",
      "[nltk_data] Downloading package wordnet to /Users/admin/nltk_data...\n",
      "[nltk_data]   Package wordnet is already up-to-date!\n"
     ]
    }
   ],
   "source": [
    "import re\n",
    "import numpy as np\n",
    "import pandas as pd\n",
    "import string\n",
    "# plotting\n",
    "import seaborn as sns\n",
    "import matplotlib.pyplot as plt\n",
    "# nltk\n",
    "import nltk\n",
    "from nltk.tokenize import RegexpTokenizer\n",
    "from nltk.stem.wordnet import WordNetLemmatizer\n",
    "lemmatizer = WordNetLemmatizer()\n",
    "nltk.download(\"punkt\")\n",
    "nltk.download('stopwords')\n",
    "nltk.download('wordnet')\n",
    "from nltk.corpus import wordnet as wn\n",
    "from nltk import word_tokenize, pos_tag\n",
    "from collections import defaultdict\n",
    "#Word2Vec\n",
    "from nltk.tokenize import sent_tokenize, word_tokenize\n",
    "import warnings\n",
    " \n",
    "warnings.filterwarnings(action = 'ignore')\n",
    " \n",
    "import gensim\n",
    "from gensim.models import Word2Vec\n",
    "\n",
    "# sklearn\n",
    "from sklearn.svm import LinearSVC\n",
    "from sklearn.naive_bayes import BernoulliNB\n",
    "from sklearn.linear_model import LogisticRegression\n",
    "from sklearn.model_selection import train_test_split\n",
    "from sklearn.feature_extraction.text import TfidfVectorizer\n",
    "from sklearn.metrics import confusion_matrix, classification_report\n",
    "\n",
    "from sklearn.ensemble import RandomForestClassifier\n",
    "from sklearn.metrics import classification_report, confusion_matrix, accuracy_score\n",
    "from sklearn.metrics import roc_auc_score"
   ]
  },
  {
   "cell_type": "markdown",
   "id": "3cec71b0",
   "metadata": {},
   "source": [
    "## Loading the Dataset"
   ]
  },
  {
   "cell_type": "code",
   "execution_count": 244,
   "id": "f54a4bd4",
   "metadata": {},
   "outputs": [],
   "source": [
    "DATASET_COLUMNS = ['claims_id','claims','status']\n",
    "DATASET_ENCODING = \"ISO-8859-1\"\n",
    "DATASET_SEP=\",\"\n",
    "DATASET_FILENAME = './U-CRISE TWITTER DATASET/U-CRISE DATASET.csv'\n",
    "df_cleaned = pd.read_csv(\n",
    "         DATASET_FILENAME,\n",
    "         #sep=DATASET_SEP, \n",
    "         encoding=DATASET_ENCODING, \n",
    "         # names=DATASET_COLUMNS\n",
    "         )"
   ]
  },
  {
   "cell_type": "code",
   "execution_count": 245,
   "id": "b5813864",
   "metadata": {},
   "outputs": [],
   "source": [
    "df_cleaned[\"Claims\"] = df_cleaned[\"Claims\"].str.lower()"
   ]
  },
  {
   "cell_type": "code",
   "execution_count": 246,
   "id": "68cf3cd4",
   "metadata": {},
   "outputs": [
    {
     "data": {
      "text/html": [
       "<div>\n",
       "<style scoped>\n",
       "    .dataframe tbody tr th:only-of-type {\n",
       "        vertical-align: middle;\n",
       "    }\n",
       "\n",
       "    .dataframe tbody tr th {\n",
       "        vertical-align: top;\n",
       "    }\n",
       "\n",
       "    .dataframe thead th {\n",
       "        text-align: right;\n",
       "    }\n",
       "</style>\n",
       "<table border=\"1\" class=\"dataframe\">\n",
       "  <thead>\n",
       "    <tr style=\"text-align: right;\">\n",
       "      <th></th>\n",
       "      <th>ID</th>\n",
       "      <th>Claims</th>\n",
       "      <th>LabelC</th>\n",
       "      <th>Related TweetT</th>\n",
       "      <th>LabelT</th>\n",
       "      <th>Related TweetF</th>\n",
       "      <th>LabelF</th>\n",
       "    </tr>\n",
       "  </thead>\n",
       "  <tbody>\n",
       "    <tr>\n",
       "      <th>0</th>\n",
       "      <td>1</td>\n",
       "      <td>putin thinks hell break americas will in ukr...</td>\n",
       "      <td>True</td>\n",
       "      <td>Putin thinks he'll break America's will in Ukr...</td>\n",
       "      <td>True</td>\n",
       "      <td>Putin thinks he'll break America's will in Ukr...</td>\n",
       "      <td>False</td>\n",
       "    </tr>\n",
       "    <tr>\n",
       "      <th>1</th>\n",
       "      <td>2</td>\n",
       "      <td>russia says it will ramp up operations as rock...</td>\n",
       "      <td>True</td>\n",
       "      <td>Russia says it will ramp up operations as rock...</td>\n",
       "      <td>True</td>\n",
       "      <td>So in the long run Ulraine will lose to Russia...</td>\n",
       "      <td>False</td>\n",
       "    </tr>\n",
       "  </tbody>\n",
       "</table>\n",
       "</div>"
      ],
      "text/plain": [
       "   ID                                             Claims  LabelC  \\\n",
       "0   1  putin thinks hell break americas will in ukr...    True   \n",
       "1   2  russia says it will ramp up operations as rock...    True   \n",
       "\n",
       "                                      Related TweetT  LabelT  \\\n",
       "0  Putin thinks he'll break America's will in Ukr...    True   \n",
       "1  Russia says it will ramp up operations as rock...    True   \n",
       "\n",
       "                                      Related TweetF  LabelF  \n",
       "0  Putin thinks he'll break America's will in Ukr...   False  \n",
       "1  So in the long run Ulraine will lose to Russia...   False  "
      ]
     },
     "execution_count": 246,
     "metadata": {},
     "output_type": "execute_result"
    }
   ],
   "source": [
    "df_cleaned.head(2)"
   ]
  },
  {
   "cell_type": "code",
   "execution_count": 247,
   "id": "8ced20b3",
   "metadata": {},
   "outputs": [
    {
     "data": {
      "text/plain": [
       "Index(['ID', 'Claims', 'LabelC', 'Related TweetT', 'LabelT', 'Related TweetF',\n",
       "       'LabelF'],\n",
       "      dtype='object')"
      ]
     },
     "execution_count": 247,
     "metadata": {},
     "output_type": "execute_result"
    }
   ],
   "source": [
    "df_cleaned.columns\n"
   ]
  },
  {
   "cell_type": "code",
   "execution_count": 248,
   "id": "2fa469e3",
   "metadata": {},
   "outputs": [],
   "source": [
    "data=df_cleaned[['Claims']]"
   ]
  },
  {
   "cell_type": "code",
   "execution_count": 249,
   "id": "007f58a5",
   "metadata": {},
   "outputs": [
    {
     "data": {
      "text/plain": [
       "array(['putin thinks he\\x92ll break america\\x92s will in ukraine, but he\\x92s wrong, says the cia director',\n",
       "       'russia says it will ramp up operations as rockets pound ukrainian cities',\n",
       "       'russia threatens broad ukraine offensive as u.s. presses china over war stance',\n",
       "       'un to investigate the killing and wounding of children in ukraine',\n",
       "       'the west\\x92s unity over ukraine could be starting to crack, just as russia\\x92s invasion gains ground',\n",
       "       'g-20 finance meetings in bali overshadowed by war in ukraine',\n",
       "       '\\x91frozen conflict\\x92: ukraine war could last 10 years or more if russian forces aren\\x92t pushed back',\n",
       "       'russia\\x92s squeeze on gas means germany\\x92s energy giant is having to draw supplies from storage',\n",
       "       'u.s. calls on russia to halt forced deportations of ukrainians, citing war crimes',\n",
       "       'ukraine muslims pray for victory, end of occupation',\n",
       "       'russia\\x92s ukraine offensive now relying on a private mercenary group that\\x92s hiring convicts, uk says',\n",
       "       'russia\\x92s putin lashes out over western sanctions \\x91blitzkrieg,\\x92 claims ukraine invasion was forced',\n",
       "       'russia is preparing for next stage of offensive, ukraine says',\n",
       "       'ukraine troops \\x91almost left\\x92 sievierodonetsk as russia pounds north, west',\n",
       "       '\\x91we are in a hybrid war\\x92: german foreign minister says as russia cuts gas supplies to europe',\n",
       "       'russian shelling hits chemical plant where civilians are trapped, says ukraine',\n",
       "       'russia is weaponizing food supplies to \\x91blackmail the world\\x92',\n",
       "       'moscow and nato could be about to clash over russia\\x92s european exclave kaliningrad',\n",
       "       'from soaring food prices to social unrest, the fallout from the russia-ukraine war could be immense',\n",
       "       'ukraine uses davos to make its pitch to the west \\x97 and takes over russia\\x92s former party hub',\n",
       "       'chinese calculations on taiwan affected by ukraine conflict, says cia director',\n",
       "       'warren buffett\\x92s son donates $2.7 million for ukraine aid after meeting with zelenskyy',\n",
       "       'war-ravaged ukraine moves a step closer to joining the european union',\n",
       "       'russia-ukraine conflict has a limited impact on china\\x92s food prices',\n",
       "       'uk bolsters gas stockpile for winter with ukraine war squeezing supply and sending prices soaring',\n",
       "       'china upholds its relationship with russia, says negotiations needed to solve ukraine conflict',\n",
       "       'chip industry under threat with neon production set to fall off a cliff following russia\\x92s invasion of ukraine',\n",
       "       'natural gas hits highest level since 2008, on pace for best month ever as russia cuts supply',\n",
       "       'european leaders formally accept ukraine as a candidate to join the eu',\n",
       "       'angela merkel breaks silence on ukraine, calls russia\\x92s war \\x91barbaric\\x92',\n",
       "       'the ukraine war has upended the energy transition \\x97 and it\\x92s not good news for the planet',\n",
       "       'here\\x92s what\\x92s in biden\\x92s $700 million military aid package for ukraine',\n",
       "       'white house tells ceos to brace for \\x91long-term\\x92 disruptions from russia-ukraine conflict',\n",
       "       'russia and the west are battling to get china and india to take their sides in the ukraine war',\n",
       "       'russia and ukraine\\x92s battle for donbas could decide the war \\x97 and it could go either way',\n",
       "       '\\x91the whole world is against us\\x92: russian military analyst gives damning assessment of ukraine war on state tv',\n",
       "       'the world reacts as russia\\x92s putin sends troops into eastern ukraine',\n",
       "       '\\x91for the first time in history anyone can join a war\\x92: volunteers join russia-ukraine cyber fight',\n",
       "       'the ukraine war \\x97 like all conflicts \\x97 will hit women and girls the hardest, un warns',\n",
       "       'white house: russian officials visited iran to see drones',\n",
       "       'west should have backed ukraine back in 2014, president zelenskyy tells davos elite',\n",
       "       'russia gets the cold shoulder at the world\\x92s biggest mobile phone show amid ukraine war',\n",
       "       'the world is bracing for a global cyberwar as russia invades ukraine',\n",
       "       'bill ackman says russia\\x92s attack on ukraine means world war iii has likely already started',\n",
       "       'putin\\x92s ukraine invasion is turning into a \\x91grinding war\\x92 where nobody wins',\n",
       "       'un watchdog warns russia bombardment endangers ukraine\\x92s nuclear security, calls for restraint',\n",
       "       'mcdonald\\x92s, quiet on the ukraine war, has more exposure to russia than other u.s. fast-food chains',\n",
       "       'biden will travel to brussels this month for nato summit about russia\\x92s attack on ukraine',\n",
       "       'ukraine \\x91is not ready to surrender or capitulate\\x92 to russia, foreign minister says',\n",
       "       'russia\\x92s ukraine invasion sparks watershed moment in eu politics',\n",
       "       'eastern europe created its own silicon valley. russia\\x92s invasion of ukraine risks it all',\n",
       "       'putin\\x92s invasion of ukraine is seen as his biggest ever mistake \\x97 and it will harm russia for years to come',\n",
       "       'if putin uses chemical weapons in ukraine it\\x92s a \\x91game changer\\x92 for nato',\n",
       "       'russia\\x92s invasion of ukraine provides \\x91greater focus\\x92 for nato troops in the baltics',\n",
       "       'china says it wants to steer clear of u.s. sanctions over russia\\x92s invasion of ukraine',\n",
       "       'china\\x92s reputation is at risk if beijing were to help russia in its war on ukraine',\n",
       "       'biden warns xi of global backlash if china helps russia\\x92s attack on ukraine',\n",
       "       'nord stream 2 cost $11 billion to build. now, the russia-europe gas pipeline is unused and abandoned',\n",
       "       'ukraine is winning the information war against russia',\n",
       "       'russia\\x92s chaotic and confusing invasion of ukraine is baffling military analysts',\n",
       "       'russia says strike on ukrainian port hit military targets',\n",
       "       'zelenskyy says russia using gas to terrorize europe; about 80 grain vessels ready to leave ukraine',\n",
       "       'russia adds 7,000 troops to ukraine border, despite claims it would withdraw some forces, u.s. says',\n",
       "       'russia says it\\x92s begun partial troop pullback from ukraine border; nato urges caution',\n",
       "       'ukraine accuses pro-russia rebels of \\x91provocation\\x92 after reports of shelling near border',\n",
       "       'russia now has over 150,000 troops near ukraine, u.s. official says, amid reports of more attacks',\n",
       "       'un security council meets on ukraine crisis as biden readies new russia sanctions',\n",
       "       'jeremy siegel: fed inflation fight way more important to u.s. economy, markets than russia-ukraine',\n",
       "       'ukraine says 500 members of national guard have died so far; russian forces \\x91pushed back\\x92 from second-largest city kharkiv',\n",
       "       'germany urged to \\x91wake up\\x92 over ukraine-russia crisis, before it\\x92s too late',\n",
       "       'ukraine warns of \\x91full-scale war\\x92 and tragedy in europe if russia attacks',\n",
       "       'white house warns that russia could invade ukraine within days, urges americans to leave',\n",
       "       'russia claims to have changed its strategy in ukraine \\x97 but there are doubts over its real intentions',\n",
       "       'u.s. is taking \\x91a close look\\x92 at whether to label russia a state sponsor of terrorism. here\\x92s what that means',\n",
       "       'ukraine\\x92s sievierodonetsk falls to russia after one of war\\x92s bloodiest fights',\n",
       "       'global hacking group anonymous launches \\x91cyber war\\x92 against russia',\n",
       "       'western arms convoys to ukraine are \\x91legitimate targets,\\x92 russia warns',\n",
       "       'ukraine crisis talks move to moscow and washington',\n",
       "       'it\\x92s \\x91reckless\\x92 to talk about defeating russia, says former advisor to the soviet union',\n",
       "       'nato to expand? chief says finland \\x97 which borders russia \\x97 would be warmly welcomed to the alliance',\n",
       "       'u.s., allies set to impose more sanctions on russia following outrage over possible war crimes',\n",
       "       'el-erian on russia and the fed: \\x91this is the situation everybody was afraid of\\x92',\n",
       "       'dimon says confluence of inflation, ukraine war may \\x91dramatically increase risks ahead\\x92 for u.s.',\n",
       "       'nato says russia is increasing troop numbers at ukrainian border, calls for talks',\n",
       "       'biden vows wider sanctions on russia in effort to cut moscow off from the global economy',\n",
       "       'putin wants to \\x91turn ukraine into a broken country,\\x92 political analyst says',\n",
       "       'vladimir putin feels his military leaders misled him about ukraine, declassified intelligence shows',\n",
       "       'cyberattacks are on the rise as hackers use russia-ukraine war as a distraction, crowdstrike\\xa0ceo says',\n",
       "       'russian troops sabotaging their own equipment and refusing orders in ukraine, uk spy chief says',\n",
       "       'three million migrants have now fled ukraine \\x97with the majority going to poland. that could have major repercussions',\n",
       "       'putin\\x92s popularity soared after russia invaded crimea. this time, it\\x92s different',\n",
       "       'biden orders sanctions on separatist regions of ukraine after putin decree, eu vows additional measures',\n",
       "       'welcoming ukraine into the eu would send a \\x91very clear message to putin,\\x92 kyiv lawmaker says',\n",
       "       'who says war in ukraine will increase covid transmission, putting large numbers of people at risk of severe disease',\n",
       "       'russian forces shift target to donetsk as zelenskyy vows ukraine will win back captured luhansk',\n",
       "       'biden says u.s. would \\x91respond\\x92 to russia if putin uses chemical or biological weapons',\n",
       "       'u.s., uk resist calls for no-fly zone over ukraine\\x92s pleas: \\x91our goal is to end the war, not to expand it\\x92',\n",
       "       'russian soldier sentenced to life in prison in ukraine\\x92s first war crimes trial since invasion',\n",
       "       'russia says biden\\x92s \\x91war criminal\\x92 claim has put relations \\x91on the verge of rupture\\x92',\n",
       "       'russia\\x92s messages with missiles tell west to back off'],\n",
       "      dtype=object)"
      ]
     },
     "execution_count": 249,
     "metadata": {},
     "output_type": "execute_result"
    }
   ],
   "source": [
    "data['Claims'].unique()"
   ]
  },
  {
   "cell_type": "code",
   "execution_count": 250,
   "id": "4530cefb",
   "metadata": {},
   "outputs": [
    {
     "name": "stdout",
     "output_type": "stream",
     "text": [
      "Total Count = ID                100\n",
      "Claims            100\n",
      "LabelC            100\n",
      "Related TweetT    100\n",
      "LabelT            100\n",
      "Related TweetF    100\n",
      "LabelF            100\n",
      "dtype: int64\n"
     ]
    }
   ],
   "source": [
    "print(f\"Total Count = {df_cleaned.count()}\")"
   ]
  },
  {
   "cell_type": "code",
   "execution_count": 251,
   "id": "6fe9ba88",
   "metadata": {},
   "outputs": [],
   "source": [
    "#Stopwords Removal\n",
    "stopwordlist = ['a', 'about', 'above', 'after', 'again', 'ain', 'all', 'am', 'an',\n",
    "             'and','any','are', 'as', 'at', 'be', 'because', 'been', 'before',\n",
    "             'being', 'below', 'between','both', 'by', 'can', 'd', 'did', 'do',\n",
    "             'does', 'doing', 'down', 'during', 'each','few', 'for', 'from',\n",
    "             'further', 'had', 'has', 'have', 'having', 'he', 'her', 'here',\n",
    "             'hers', 'herself', 'him', 'himself', 'his', 'how', 'i', 'if', 'in',\n",
    "             'into','is', 'it', 'its', 'itself', 'just', 'll', 'm', 'ma',\n",
    "             'me', 'more', 'most','my', 'myself', 'now', 'o', 'of', 'on', 'once',\n",
    "             'only', 'or', 'other', 'our', 'ours','ourselves', 'out', 'own', 're','s', 'same', 'she', \"shes\", 'should', \"shouldve\",'so', 'some', 'such',\n",
    "             't', 'than', 'that', \"thatll\", 'the', 'their', 'theirs', 'them',\n",
    "             'themselves', 'then', 'there', 'these', 'they', 'this', 'those',\n",
    "             'through', 'to', 'too','under', 'until', 'up', 've', 'very', 'was',\n",
    "             'we', 'were', 'what', 'when', 'where','which','while', 'who', 'whom',\n",
    "             'why', 'will', 'with', 'won', 'y', 'you', \"youd\",\"youll\", \"youre\",\n",
    "             \"youve\", 'your', 'yours', 'yourself', 'yourselves']"
   ]
  },
  {
   "cell_type": "code",
   "execution_count": 252,
   "id": "2b9f1474",
   "metadata": {},
   "outputs": [
    {
     "name": "stdout",
     "output_type": "stream",
     "text": [
      "Stop Words :      ID                                             Claims  LabelC  \\\n",
      "0     1  putin thinks hell break americas ukraine, bu...    True   \n",
      "1     2  russia says ramp operations rockets pound ukra...    True   \n",
      "2     3  russia threatens broad ukraine offensive u.s. ...    True   \n",
      "3     4   un investigate killing wounding children ukraine    True   \n",
      "4     5  wests unity over ukraine could starting crack...    True   \n",
      "..  ...                                                ...     ...   \n",
      "95   96  biden says u.s. would respond russia putin u...    True   \n",
      "96   97  u.s., uk resist calls no-fly zone over ukraine...    True   \n",
      "97   98  russian soldier sentenced life prison ukraine...    True   \n",
      "98   99  russia says bidens war criminal claim put r...    True   \n",
      "99  100      russias messages missiles tell west back off    True   \n",
      "\n",
      "                                       Related TweetT  LabelT  \\\n",
      "0   Putin thinks he'll break America's will in Ukr...    True   \n",
      "1   Russia says it will ramp up operations as rock...    True   \n",
      "2   Russia threatens broad Ukraine offensive as U....    True   \n",
      "3   UN to investigate the killing and wounding of ...    True   \n",
      "4   The West's unity over Ukraine could be startin...    True   \n",
      "..                                                ...     ...   \n",
      "95  President Biden says the U.S. would ârespond...    True   \n",
      "96  U.S., UK resist calls for no-fly zone over Ukr...    True   \n",
      "97  A 21-year-old Russian soldier has been sentenc...    True   \n",
      "98  Russia says Biden's 'war criminal' claim has p...    True   \n",
      "99  Russia's messages with missiles tell West to b...    True   \n",
      "\n",
      "                                       Related TweetF  LabelF  \n",
      "0   Putin thinks he'll break America's will in Ukr...   False  \n",
      "1   So in the long run Ulraine will lose to Russia...   False  \n",
      "2   Ethereum ($ETH, -1.8%) sinks on reports Russia...   False  \n",
      "3   $SPY $RSX $DJIA $USO $WEAT UNÂ to investigate ...   False  \n",
      "4   This president is an idiot. Should have negoti...   False  \n",
      "..                                                ...     ...  \n",
      "95  I don't think he would. If he going to shoot c...   False  \n",
      "96  Only way to end it...is to expand it first.  ð...   False  \n",
      "97  Russian soldier sentenced to life in prison in...    True  \n",
      "98  CNBC: Russia says Biden's 'war criminal' claim...   False  \n",
      "99  Russia's messages with missiles tell West to b...   False  \n",
      "\n",
      "[100 rows x 7 columns]\n"
     ]
    }
   ],
   "source": [
    "stop_words = set(stopwordlist)\n",
    "\n",
    "\n",
    "#Remove stopwords from the Claims column in df\n",
    "\n",
    "def remove_stop_words(text):\n",
    "    return \" \".join([word for word in str(text).split() if word not in stop_words])\n",
    "df_cleaned['Claims'] = df_cleaned['Claims'].apply(lambda text: remove_stop_words(text))\n",
    "# df_cleaned = df_cleaned['Claims']\n",
    "print(f\"Stop Words : {df_cleaned}\")"
   ]
  },
  {
   "cell_type": "code",
   "execution_count": 253,
   "id": "fe5fb947",
   "metadata": {},
   "outputs": [
    {
     "data": {
      "text/html": [
       "<div>\n",
       "<style scoped>\n",
       "    .dataframe tbody tr th:only-of-type {\n",
       "        vertical-align: middle;\n",
       "    }\n",
       "\n",
       "    .dataframe tbody tr th {\n",
       "        vertical-align: top;\n",
       "    }\n",
       "\n",
       "    .dataframe thead th {\n",
       "        text-align: right;\n",
       "    }\n",
       "</style>\n",
       "<table border=\"1\" class=\"dataframe\">\n",
       "  <thead>\n",
       "    <tr style=\"text-align: right;\">\n",
       "      <th></th>\n",
       "      <th>ID</th>\n",
       "      <th>Claims</th>\n",
       "      <th>LabelC</th>\n",
       "      <th>Related TweetT</th>\n",
       "      <th>LabelT</th>\n",
       "      <th>Related TweetF</th>\n",
       "      <th>LabelF</th>\n",
       "    </tr>\n",
       "  </thead>\n",
       "  <tbody>\n",
       "    <tr>\n",
       "      <th>0</th>\n",
       "      <td>1</td>\n",
       "      <td>putin thinks hell break americas ukraine, bu...</td>\n",
       "      <td>True</td>\n",
       "      <td>Putin thinks he'll break America's will in Ukr...</td>\n",
       "      <td>True</td>\n",
       "      <td>Putin thinks he'll break America's will in Ukr...</td>\n",
       "      <td>False</td>\n",
       "    </tr>\n",
       "    <tr>\n",
       "      <th>1</th>\n",
       "      <td>2</td>\n",
       "      <td>russia says ramp operations rockets pound ukra...</td>\n",
       "      <td>True</td>\n",
       "      <td>Russia says it will ramp up operations as rock...</td>\n",
       "      <td>True</td>\n",
       "      <td>So in the long run Ulraine will lose to Russia...</td>\n",
       "      <td>False</td>\n",
       "    </tr>\n",
       "    <tr>\n",
       "      <th>2</th>\n",
       "      <td>3</td>\n",
       "      <td>russia threatens broad ukraine offensive u.s. ...</td>\n",
       "      <td>True</td>\n",
       "      <td>Russia threatens broad Ukraine offensive as U....</td>\n",
       "      <td>True</td>\n",
       "      <td>Ethereum ($ETH, -1.8%) sinks on reports Russia...</td>\n",
       "      <td>False</td>\n",
       "    </tr>\n",
       "    <tr>\n",
       "      <th>3</th>\n",
       "      <td>4</td>\n",
       "      <td>un investigate killing wounding children ukraine</td>\n",
       "      <td>True</td>\n",
       "      <td>UN to investigate the killing and wounding of ...</td>\n",
       "      <td>True</td>\n",
       "      <td>$SPY $RSX $DJIA $USO $WEAT UNÂ to investigate ...</td>\n",
       "      <td>False</td>\n",
       "    </tr>\n",
       "    <tr>\n",
       "      <th>4</th>\n",
       "      <td>5</td>\n",
       "      <td>wests unity over ukraine could starting crack...</td>\n",
       "      <td>True</td>\n",
       "      <td>The West's unity over Ukraine could be startin...</td>\n",
       "      <td>True</td>\n",
       "      <td>This president is an idiot. Should have negoti...</td>\n",
       "      <td>False</td>\n",
       "    </tr>\n",
       "    <tr>\n",
       "      <th>...</th>\n",
       "      <td>...</td>\n",
       "      <td>...</td>\n",
       "      <td>...</td>\n",
       "      <td>...</td>\n",
       "      <td>...</td>\n",
       "      <td>...</td>\n",
       "      <td>...</td>\n",
       "    </tr>\n",
       "    <tr>\n",
       "      <th>95</th>\n",
       "      <td>96</td>\n",
       "      <td>biden says u.s. would respond russia putin u...</td>\n",
       "      <td>True</td>\n",
       "      <td>President Biden says the U.S. would ârespond...</td>\n",
       "      <td>True</td>\n",
       "      <td>I don't think he would. If he going to shoot c...</td>\n",
       "      <td>False</td>\n",
       "    </tr>\n",
       "    <tr>\n",
       "      <th>96</th>\n",
       "      <td>97</td>\n",
       "      <td>u.s., uk resist calls no-fly zone over ukraine...</td>\n",
       "      <td>True</td>\n",
       "      <td>U.S., UK resist calls for no-fly zone over Ukr...</td>\n",
       "      <td>True</td>\n",
       "      <td>Only way to end it...is to expand it first.  ð...</td>\n",
       "      <td>False</td>\n",
       "    </tr>\n",
       "    <tr>\n",
       "      <th>97</th>\n",
       "      <td>98</td>\n",
       "      <td>russian soldier sentenced life prison ukraine...</td>\n",
       "      <td>True</td>\n",
       "      <td>A 21-year-old Russian soldier has been sentenc...</td>\n",
       "      <td>True</td>\n",
       "      <td>Russian soldier sentenced to life in prison in...</td>\n",
       "      <td>True</td>\n",
       "    </tr>\n",
       "    <tr>\n",
       "      <th>98</th>\n",
       "      <td>99</td>\n",
       "      <td>russia says bidens war criminal claim put r...</td>\n",
       "      <td>True</td>\n",
       "      <td>Russia says Biden's 'war criminal' claim has p...</td>\n",
       "      <td>True</td>\n",
       "      <td>CNBC: Russia says Biden's 'war criminal' claim...</td>\n",
       "      <td>False</td>\n",
       "    </tr>\n",
       "    <tr>\n",
       "      <th>99</th>\n",
       "      <td>100</td>\n",
       "      <td>russias messages missiles tell west back off</td>\n",
       "      <td>True</td>\n",
       "      <td>Russia's messages with missiles tell West to b...</td>\n",
       "      <td>True</td>\n",
       "      <td>Russia's messages with missiles tell West to b...</td>\n",
       "      <td>False</td>\n",
       "    </tr>\n",
       "  </tbody>\n",
       "</table>\n",
       "<p>100 rows × 7 columns</p>\n",
       "</div>"
      ],
      "text/plain": [
       "     ID                                             Claims  LabelC  \\\n",
       "0     1  putin thinks hell break americas ukraine, bu...    True   \n",
       "1     2  russia says ramp operations rockets pound ukra...    True   \n",
       "2     3  russia threatens broad ukraine offensive u.s. ...    True   \n",
       "3     4   un investigate killing wounding children ukraine    True   \n",
       "4     5  wests unity over ukraine could starting crack...    True   \n",
       "..  ...                                                ...     ...   \n",
       "95   96  biden says u.s. would respond russia putin u...    True   \n",
       "96   97  u.s., uk resist calls no-fly zone over ukraine...    True   \n",
       "97   98  russian soldier sentenced life prison ukraine...    True   \n",
       "98   99  russia says bidens war criminal claim put r...    True   \n",
       "99  100      russias messages missiles tell west back off    True   \n",
       "\n",
       "                                       Related TweetT  LabelT  \\\n",
       "0   Putin thinks he'll break America's will in Ukr...    True   \n",
       "1   Russia says it will ramp up operations as rock...    True   \n",
       "2   Russia threatens broad Ukraine offensive as U....    True   \n",
       "3   UN to investigate the killing and wounding of ...    True   \n",
       "4   The West's unity over Ukraine could be startin...    True   \n",
       "..                                                ...     ...   \n",
       "95  President Biden says the U.S. would ârespond...    True   \n",
       "96  U.S., UK resist calls for no-fly zone over Ukr...    True   \n",
       "97  A 21-year-old Russian soldier has been sentenc...    True   \n",
       "98  Russia says Biden's 'war criminal' claim has p...    True   \n",
       "99  Russia's messages with missiles tell West to b...    True   \n",
       "\n",
       "                                       Related TweetF  LabelF  \n",
       "0   Putin thinks he'll break America's will in Ukr...   False  \n",
       "1   So in the long run Ulraine will lose to Russia...   False  \n",
       "2   Ethereum ($ETH, -1.8%) sinks on reports Russia...   False  \n",
       "3   $SPY $RSX $DJIA $USO $WEAT UNÂ to investigate ...   False  \n",
       "4   This president is an idiot. Should have negoti...   False  \n",
       "..                                                ...     ...  \n",
       "95  I don't think he would. If he going to shoot c...   False  \n",
       "96  Only way to end it...is to expand it first.  ð...   False  \n",
       "97  Russian soldier sentenced to life in prison in...    True  \n",
       "98  CNBC: Russia says Biden's 'war criminal' claim...   False  \n",
       "99  Russia's messages with missiles tell West to b...   False  \n",
       "\n",
       "[100 rows x 7 columns]"
      ]
     },
     "execution_count": 253,
     "metadata": {},
     "output_type": "execute_result"
    }
   ],
   "source": [
    "df_cleaned"
   ]
  },
  {
   "cell_type": "code",
   "execution_count": 254,
   "id": "1cf938e2",
   "metadata": {},
   "outputs": [
    {
     "name": "stdout",
     "output_type": "stream",
     "text": [
      "0     putin thinks hell break americas ukraine but...\n",
      "1     russia says ramp operations rockets pound ukra...\n",
      "2     russia threatens broad ukraine offensive us pr...\n",
      "3      un investigate killing wounding children ukraine\n",
      "4     wests unity over ukraine could starting crack...\n",
      "                            ...                        \n",
      "95    biden says us would respond russia putin use...\n",
      "96    us uk resist calls nofly zone over ukraines p...\n",
      "97    russian soldier sentenced life prison ukraine...\n",
      "98    russia says bidens war criminal claim put r...\n",
      "99        russias messages missiles tell west back off\n",
      "Name: Claims, Length: 100, dtype: object\n"
     ]
    }
   ],
   "source": [
    "#Punctuations Removal\n",
    "\n",
    "#Remove Punctuation from the Claims column in cleaned df (Containing no stopwords)\n",
    "\n",
    "english_punctuations = string.punctuation\n",
    "punctuations_list = english_punctuations\n",
    "def remove_punctuations(text):\n",
    "    translator = str.maketrans('', '', punctuations_list)\n",
    "    return text.translate(translator)\n",
    "df_cleaned['Claims']= df_cleaned['Claims'].apply(lambda x: remove_punctuations(x))\n",
    "print(df_cleaned['Claims'])"
   ]
  },
  {
   "cell_type": "code",
   "execution_count": 255,
   "id": "9c71bb78",
   "metadata": {},
   "outputs": [
    {
     "name": "stdout",
     "output_type": "stream",
     "text": [
      "0    putin thinks hell break americas ukraine but...\n",
      "1    russia says ramp operations rockets pound ukra...\n",
      "2    russia threatens broad ukraine offensive us pr...\n",
      "3     un investigate killing wounding children ukraine\n",
      "4    wests unity over ukraine could starting crack...\n",
      "Name: Claims, dtype: object\n"
     ]
    }
   ],
   "source": [
    "#Repeating Characters Removal\n",
    "def remove_repeating_character(text):\n",
    "    return re.sub(r'(.)1+', r'1', text)\n",
    "df_cleaned['Claims'] = df_cleaned['Claims'].apply(lambda x: remove_repeating_character(x))\n",
    "print(df_cleaned['Claims'].head())\n"
   ]
  },
  {
   "cell_type": "code",
   "execution_count": 256,
   "id": "276ec95a",
   "metadata": {},
   "outputs": [
    {
     "name": "stdout",
     "output_type": "stream",
     "text": [
      "0    putin thinks hell break americas ukraine but...\n",
      "1    russia says ramp operations rockets pound ukra...\n",
      "2    russia threatens broad ukraine offensive us pr...\n",
      "3     un investigate killing wounding children ukraine\n",
      "4    wests unity over ukraine could starting crack...\n",
      "Name: Claims, dtype: object\n"
     ]
    }
   ],
   "source": [
    "#URL Removal\n",
    "def remove_URLs(data):\n",
    "    return re.sub('((www.[^s]+)|(https?://[^s]+))',' ',data)\n",
    "df_cleaned['Claims'] = df_cleaned['Claims'].apply(lambda x: remove_URLs(x))\n",
    "print(df_cleaned['Claims'].head())"
   ]
  },
  {
   "cell_type": "code",
   "execution_count": 257,
   "id": "277b382a",
   "metadata": {},
   "outputs": [
    {
     "data": {
      "text/plain": [
       "0    putin thinks hell break americas ukraine but...\n",
       "1    russia says ramp operations rockets pound ukra...\n",
       "2    russia threatens broad ukraine offensive us pr...\n",
       "3     un investigate killing wounding children ukraine\n",
       "4    wests unity over ukraine could starting crack...\n",
       "Name: Claims, dtype: object"
      ]
     },
     "execution_count": 257,
     "metadata": {},
     "output_type": "execute_result"
    }
   ],
   "source": [
    "#Numbers Removal\n",
    "def remove_numbers(data):\n",
    "    return re.sub('[0-9]+', '', data)\n",
    "df_cleaned['Claims'] = df_cleaned['Claims'].apply(lambda x: remove_numbers(x))\n",
    "df_cleaned['Claims'].head()"
   ]
  },
  {
   "cell_type": "code",
   "execution_count": 258,
   "id": "b2398878",
   "metadata": {},
   "outputs": [],
   "source": [
    "# #Word Tokenization\n",
    "# from nltk.tokenize import RegexpTokenizer\n",
    "# tokenizer = RegexpTokenizer(r'w+')\n",
    "# df_cleaned['Claims'] = df_cleaned['Claims'].apply(tokenizer.tokenize)\n",
    "# df_cleaned['Claims'].head()"
   ]
  },
  {
   "cell_type": "code",
   "execution_count": 259,
   "id": "9c2de9b9",
   "metadata": {},
   "outputs": [
    {
     "name": "stdout",
     "output_type": "stream",
     "text": [
      "0     putin thinks hell break americas ukraine but...\n",
      "1     russia says ramp operations rockets pound ukra...\n",
      "2     russia threatens broad ukraine offensive us pr...\n",
      "3      un investigate killing wounding children ukraine\n",
      "4     wests unity over ukraine could starting crack...\n",
      "                            ...                        \n",
      "95    biden says us would respond russia putin use...\n",
      "96    us uk resist calls nofly zone over ukraines p...\n",
      "97    russian soldier sentenced life prison ukraine...\n",
      "98    russia says bidens war criminal claim put r...\n",
      "99        russias messages missiles tell west back off\n",
      "Name: Claims, Length: 100, dtype: object\n"
     ]
    }
   ],
   "source": [
    "#Stemming\n",
    "\n",
    "# Convert Claims column into word list tokens\n",
    "def tokenize_sent(sent):\n",
    "    # Use this line to convert sentences -> list of word tokens\n",
    "    # words_list = [st.stem(word) for word in nltk.word_tokenize(sent)]\n",
    "    \n",
    "    words_list = str(sent)\n",
    "    return words_list\n",
    "df_cleaned[\"Claims\"] = df_cleaned[\"Claims\"].apply(lambda x : tokenize_sent(x))\n",
    "\n",
    "# df_cleaned['Claims'] = df_cleaned['Claims'].apply(lambda x: stem_text(x))\n",
    "# df_cleaned['Claims'] = df_cleaned['Claims'].astype('string')\n",
    "\n",
    "df_stemming = df_cleaned['Claims']\n",
    "\n",
    "print(df_stemming)"
   ]
  },
  {
   "cell_type": "code",
   "execution_count": 260,
   "id": "3fac762a",
   "metadata": {},
   "outputs": [],
   "source": [
    "#TF_IDF\n",
    "\n",
    "X=df_cleaned.Claims\n",
    "y=df_cleaned.LabelC"
   ]
  },
  {
   "cell_type": "code",
   "execution_count": 261,
   "id": "33be446c",
   "metadata": {},
   "outputs": [
    {
     "data": {
      "text/plain": [
       "0     putin thinks hell break americas ukraine but...\n",
       "1     russia says ramp operations rockets pound ukra...\n",
       "2     russia threatens broad ukraine offensive us pr...\n",
       "3      un investigate killing wounding children ukraine\n",
       "4     wests unity over ukraine could starting crack...\n",
       "                            ...                        \n",
       "95    biden says us would respond russia putin use...\n",
       "96    us uk resist calls nofly zone over ukraines p...\n",
       "97    russian soldier sentenced life prison ukraine...\n",
       "98    russia says bidens war criminal claim put r...\n",
       "99        russias messages missiles tell west back off\n",
       "Name: Claims, Length: 100, dtype: object"
      ]
     },
     "execution_count": 261,
     "metadata": {},
     "output_type": "execute_result"
    }
   ],
   "source": [
    "df_cleaned.Claims"
   ]
  },
  {
   "cell_type": "code",
   "execution_count": 262,
   "id": "6515b3c3",
   "metadata": {},
   "outputs": [
    {
     "data": {
      "text/plain": [
       "58     [ukraine winning information war against russia]\n",
       "92    [welcoming ukraine eu would send very clear m...\n",
       "95    [biden says us would respond russia putin us...\n",
       "86    [vladimir putin feels military leaders misled ...\n",
       "82    [dimon says confluence inflation ukraine war m...\n",
       "                            ...                        \n",
       "87    [cyberattacks rise hackers use russiaukraine w...\n",
       "76    [western arms convoys ukraine legitimate targ...\n",
       "65    [russia over troops near ukraine us official s...\n",
       "29    [angela merkel breaks silence ukraine calls ru...\n",
       "46    [mcdonalds quiet ukraine war exposure russia ...\n",
       "Name: Claims, Length: 95, dtype: object"
      ]
     },
     "execution_count": 262,
     "metadata": {},
     "output_type": "execute_result"
    }
   ],
   "source": [
    "X_train"
   ]
  },
  {
   "cell_type": "code",
   "execution_count": 265,
   "id": "92fb8353",
   "metadata": {
    "scrolled": true
   },
   "outputs": [
    {
     "name": "stdout",
     "output_type": "stream",
     "text": [
      "No. of feature_words:  1318\n",
      "X_Train =   (0, 1280)\t0.35808839155756145\n",
      "  (0, 1279)\t0.35808839155756145\n",
      "  (0, 1215)\t0.32828211830584353\n",
      "  (0, 1214)\t0.16408781710498105\n",
      "  (0, 1139)\t0.35808839155756145\n",
      "  (0, 1100)\t0.09778781556491785\n",
      "  (0, 858)\t0.11183253724193534\n",
      "  (0, 510)\t0.35808839155756145\n",
      "  (0, 509)\t0.35808839155756145\n",
      "  (0, 18)\t0.32828211830584353\n",
      "  (0, 17)\t0.30713423088064273\n",
      "  (1, 1300)\t0.2236279647781379\n",
      "  (1, 1298)\t0.18156272644056065\n",
      "  (1, 1257)\t0.2236279647781379\n",
      "  (1, 1256)\t0.2236279647781379\n",
      "  (1, 1197)\t0.2236279647781379\n",
      "  (1, 1196)\t0.2236279647781379\n",
      "  (1, 1115)\t0.2236279647781379\n",
      "  (1, 1100)\t0.06106897260691366\n",
      "  (1, 939)\t0.2236279647781379\n",
      "  (1, 938)\t0.2236279647781379\n",
      "  (1, 916)\t0.10587581222198424\n",
      "  (1, 803)\t0.2236279647781379\n",
      "  (1, 799)\t0.1376969366086034\n",
      "  (1, 617)\t0.2236279647781379\n",
      "  :\t:\n",
      "  (93, 614)\t0.27053922355073123\n",
      "  (93, 143)\t0.24802029746271684\n",
      "  (93, 140)\t0.20952393904614725\n",
      "  (93, 124)\t0.27053922355073123\n",
      "  (93, 123)\t0.27053922355073123\n",
      "  (93, 72)\t0.27053922355073123\n",
      "  (93, 44)\t0.27053922355073123\n",
      "  (93, 43)\t0.27053922355073123\n",
      "  (94, 1222)\t0.2751410263492818\n",
      "  (94, 1214)\t0.1260786204582129\n",
      "  (94, 1177)\t0.2751410263492818\n",
      "  (94, 1173)\t0.1694156475520852\n",
      "  (94, 1137)\t0.18423482106623784\n",
      "  (94, 1100)\t0.07513630872521823\n",
      "  (94, 890)\t0.2751410263492818\n",
      "  (94, 858)\t0.08592772008652015\n",
      "  (94, 812)\t0.2751410263492818\n",
      "  (94, 811)\t0.2751410263492818\n",
      "  (94, 599)\t0.2751410263492818\n",
      "  (94, 598)\t0.2751410263492818\n",
      "  (94, 361)\t0.2751410263492818\n",
      "  (94, 360)\t0.2751410263492818\n",
      "  (94, 351)\t0.2751410263492818\n",
      "  (94, 350)\t0.2751410263492818\n",
      "  (94, 156)\t0.2751410263492818\n",
      "X_test =   (0, 1272)\t0.5263908558238357\n",
      "  (0, 1271)\t0.5263908558238357\n",
      "  (0, 900)\t0.41077731280482066\n",
      "  (0, 485)\t0.5263908558238357\n",
      "  (1, 1236)\t0.4609976864830551\n",
      "  (1, 1214)\t0.2727604699943941\n",
      "  (1, 1100)\t0.16255107176023517\n",
      "  (1, 858)\t0.18589738078641246\n",
      "  (1, 333)\t0.5456979467437807\n",
      "  (1, 57)\t0.5952444227976273\n",
      "  (2, 1214)\t0.1482959289109098\n",
      "  (2, 1023)\t0.296688093838555\n",
      "  (2, 927)\t0.27757548898126055\n",
      "  (2, 916)\t0.1532194070285352\n",
      "  (2, 865)\t0.3236257974244828\n",
      "  (2, 858)\t0.10106972160002783\n",
      "  (2, 633)\t0.3236257974244828\n",
      "  (2, 632)\t0.3236257974244828\n",
      "  (2, 409)\t0.2506377853953327\n",
      "  (2, 397)\t0.3236257974244828\n",
      "  (2, 396)\t0.3236257974244828\n",
      "  (2, 333)\t0.296688093838555\n",
      "  (2, 257)\t0.3236257974244828\n",
      "  (3, 1231)\t0.43959672639409175\n",
      "  (3, 1214)\t0.21972706772075845\n",
      "  (3, 1100)\t0.1309459187890281\n",
      "  (3, 916)\t0.22702208530969753\n",
      "  (3, 851)\t0.4795097750093557\n",
      "  (3, 699)\t0.4795097750093557\n",
      "  (3, 498)\t0.4795097750093557\n",
      "  (4, 1212)\t0.3814820218952376\n",
      "  (4, 1173)\t0.23489417273168187\n",
      "  (4, 1100)\t0.10417621592300881\n",
      "  (4, 916)\t0.18061121718973672\n",
      "  (4, 912)\t0.2954455729329409\n",
      "  (4, 877)\t0.3097238578908187\n",
      "  (4, 858)\t0.11913846811722231\n",
      "  (4, 728)\t0.34972852847488606\n",
      "  (4, 725)\t0.247976804682295\n",
      "  (4, 525)\t0.2954455729329409\n",
      "  (4, 520)\t0.247976804682295\n",
      "  (4, 199)\t0.3814820218952376\n",
      "  (4, 171)\t0.283373455012669\n"
     ]
    }
   ],
   "source": [
    "# Separating the 95% data for training data and 5% for testing data\n",
    "X_train, X_test, y_train, y_test = train_test_split(X,y,test_size = 0.05, random_state =26105111)\n",
    "\n",
    "vectoriser = TfidfVectorizer(ngram_range=(1,2), max_features=5000)\n",
    "vectoriser.fit(X_train)\n",
    "print('No. of feature_words: ', len(vectoriser.get_feature_names()))\n",
    "\n",
    "X_train = vectoriser.transform(X_train)\n",
    "X_test  = vectoriser.transform(X_test)\n",
    "\n",
    "print(f\"X_Train = {X_train}\")\n",
    "print(f\"X_test = {X_test}\")"
   ]
  },
  {
   "cell_type": "code",
   "execution_count": 267,
   "id": "0f909554",
   "metadata": {},
   "outputs": [],
   "source": [
    "DATASET_ENCODING = \"ISO-8859-1\"\n",
    "#  Reads ‘alice.txt’ file\n",
    "DATASET_FILENAME = './U-CRISE TWITTER DATASET/U-CRISE DATASET.csv'\n",
    "\n",
    "with open(DATASET_FILENAME, \"r\", encoding=DATASET_ENCODING) as file:\n",
    "    s = file.read()\n",
    "# sample = open('C:\\\\ucrise_dataset_project_final\\\\u_crise_dataset.csv',encoding=DATASET_ENCODING)\n",
    "# s = sample.read()\n",
    "# Replaces escape character with space\n",
    "f = s.replace(\"\\n\", \" \")\n",
    "data = []\n",
    "# iterate through each sentence in the file\n",
    "for i in sent_tokenize(f):\n",
    "    temp = []\n",
    "    # tokenize the sentence into words\n",
    "    for j in word_tokenize(i):\n",
    "        temp.append(j.lower())\n",
    "    data.append(temp)"
   ]
  },
  {
   "cell_type": "code",
   "execution_count": 268,
   "id": "6c9c1548",
   "metadata": {},
   "outputs": [
    {
     "name": "stdout",
     "output_type": "stream",
     "text": [
      "Cosine similarity between 'ukraine' and 'war' - CBOW :  0.99926347\n",
      "Cosine similarity between 'putin' and 'zelenskyy' - CBOW :  0.99668616\n",
      "Cosine similarity between 'ukrainewar' and 'russia' - CBOW :  0.8763238\n"
     ]
    }
   ],
   "source": [
    "# Create CBOW model\n",
    "model1 = gensim.models.Word2Vec(data, min_count = 1, vector_size = 100, window = 5)\n",
    "# Print results\n",
    "print(\"Cosine similarity between 'ukraine' \" + \n",
    "               \"and 'war' - CBOW : \",\n",
    "    model1.wv.similarity('ukraine', 'war'))\n",
    "     \n",
    "print(\"Cosine similarity between 'putin' \" +\n",
    "                 \"and 'zelenskyy' - CBOW : \",\n",
    "      model1.wv.similarity('putin', 'zelenskyy'))\n",
    " \n",
    "print(\"Cosine similarity between 'ukrainewar' \" +\n",
    "                 \"and 'russia' - CBOW : \",\n",
    "      model1.wv.similarity('ukrainewar', 'russia'))"
   ]
  },
  {
   "cell_type": "code",
   "execution_count": 269,
   "id": "80408fe2",
   "metadata": {},
   "outputs": [
    {
     "name": "stdout",
     "output_type": "stream",
     "text": [
      "Cosine similarity between 'ukraine' and 'war' - Skip Gram :  0.99822056\n",
      "Cosine similarity between 'putin' and 'zelenskyy' - Skip Gram :  0.9979715\n",
      "Cosine similarity between 'ukrainewar' and 'russia' - Skip Gram  :  0.99409837\n"
     ]
    }
   ],
   "source": [
    "# Create Skip Gram model\n",
    "model2 = gensim.models.Word2Vec(data, min_count = 1, vector_size = 100,\n",
    "                                             window = 5, sg = 1)\n",
    " \n",
    "# Print results\n",
    "print(\"Cosine similarity between 'ukraine' \" +\n",
    "          \"and 'war' - Skip Gram : \",\n",
    "    model2.wv.similarity('ukraine', 'war'))\n",
    "     \n",
    "print(\"Cosine similarity between 'putin' \" +\n",
    "            \"and 'zelenskyy' - Skip Gram : \",\n",
    "      model2.wv.similarity('putin', 'zelenskyy'))\n",
    "\n",
    "print(\"Cosine similarity between 'ukrainewar' \" +\n",
    "                 \"and 'russia' - Skip Gram  : \",\n",
    "      model2.wv.similarity('ukrainewar', 'russia'))"
   ]
  },
  {
   "cell_type": "code",
   "execution_count": null,
   "id": "d6d51da2",
   "metadata": {},
   "outputs": [],
   "source": [
    "#Evaluation of Models\n",
    "def model_Evaluate(model):\n",
    "    # Predict values for Test dataset\n",
    "    y_pred = model.predict(X_test)\n",
    "    # Print the evaluation metrics for the dataset.\n",
    "    print(classification_report(y_test, y_pred))\n",
    "    # Compute and plot the Confusion matrix\n",
    "    cf_matrix = confusion_matrix(y_test, y_pred)\n",
    "    categories = ['Claims','True','False']\n",
    "    group_names = ['True Neg','False Pos', 'False Neg','True Pos']\n",
    "    group_percentages = ['{0:.2%}'.format(value) for value in cf_matrix.flatten() / np.sum(cf_matrix)]\n",
    "    labels = [f'{v1}n{v2}' for v1, v2 in zip(group_names,group_percentages)]\n",
    "    labels = np.asarray(labels).reshape(2,2)"
   ]
  },
  {
   "cell_type": "code",
   "execution_count": null,
   "id": "dbdff2e6",
   "metadata": {},
   "outputs": [],
   "source": [
    "'#BernoulliNB Model'\n",
    "print(\"############# Bernoulli Model #####################\")\n",
    "BNBmodel = BernoulliNB()\n",
    "BNBmodel.fit(X_train, y_train)\n",
    "model_Evaluate(BNBmodel)\n",
    "y_pred1 = BNBmodel.predict(X_test)"
   ]
  },
  {
   "cell_type": "code",
   "execution_count": null,
   "id": "ff067050",
   "metadata": {},
   "outputs": [],
   "source": [
    "'#Linear SVC model'\n",
    "print(\"############# Linear SVC Model #####################\")\n",
    "SVCmodel = LinearSVC()\n",
    "SVCmodel.fit(X_train, y_train)\n",
    "model_Evaluate(SVCmodel)\n",
    "y_pred2 = SVCmodel.predict(X_test)"
   ]
  },
  {
   "cell_type": "code",
   "execution_count": null,
   "id": "6ec7522e",
   "metadata": {},
   "outputs": [],
   "source": [
    "print(\"############# Logistic Model #####################\")\n",
    "LRmodel = LogisticRegression(C=2, max_iter=1000, n_jobs=-1)\n",
    "LRmodel.fit(X_train, y_train)\n",
    "model_Evaluate(LRmodel)\n",
    "y_pred3 = LRmodel.predict(X_test)"
   ]
  },
  {
   "cell_type": "code",
   "execution_count": null,
   "id": "6d9ebbb3",
   "metadata": {},
   "outputs": [],
   "source": [
    "print(\"############# Random Forest Model #####################\")\n",
    "RFmodel = RandomForestClassifier()\n",
    "RFmodel.fit(X_train, y_train)\n",
    "model_Evaluate(RFmodel)\n",
    "y_pred3 = RFmodel.predict(X_test)"
   ]
  }
 ],
 "metadata": {
  "kernelspec": {
   "display_name": "Python 3.10.7 ('devenviron': venv)",
   "language": "python",
   "name": "python3"
  },
  "language_info": {
   "codemirror_mode": {
    "name": "ipython",
    "version": 3
   },
   "file_extension": ".py",
   "mimetype": "text/x-python",
   "name": "python",
   "nbconvert_exporter": "python",
   "pygments_lexer": "ipython3",
   "version": "3.10.7"
  },
  "vscode": {
   "interpreter": {
    "hash": "a47508f02e000518cad5512a56aa3e309dc604ae4f80dac84817033857daf420"
   }
  }
 },
 "nbformat": 4,
 "nbformat_minor": 5
}
